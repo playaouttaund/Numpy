{
 "cells": [
  {
   "cell_type": "markdown",
   "metadata": {},
   "source": [
    "# Numpy"
   ]
  },
  {
   "cell_type": "markdown",
   "metadata": {},
   "source": [
    "Материалы:\n",
    "* Макрушин С.В. \"Лекция 1: Библиотека Numpy\"\n",
    "* https://numpy.org/doc/stable/user/index.html\n",
    "* https://numpy.org/doc/stable/reference/index.html"
   ]
  },
  {
   "cell_type": "markdown",
   "metadata": {},
   "source": [
    "## Задачи для совместного разбора"
   ]
  },
  {
   "cell_type": "markdown",
   "metadata": {},
   "source": [
    "1. Сгенерировать двухмерный массив `arr` размерности (4, 7), состоящий из случайных действительных чисел, равномерно распределенных в диапазоне от 0 до 20. Нормализовать значения массива с помощью преобразования вида  $𝑎𝑥+𝑏$  так, что после нормализации максимальный элемент масcива будет равен 1.0, минимальный 0.0"
   ]
  },
  {
   "cell_type": "code",
   "execution_count": 2,
   "metadata": {},
   "outputs": [
    {
     "name": "stdout",
     "output_type": "stream",
     "text": [
      "Массив arr:\n",
      " [[13 12 16 19 18 11  2]\n",
      " [13  7  2 19 15 16 10]\n",
      " [ 9  2  3 14 18 11  1]\n",
      " [ 4 19 16 15 19 14  3]]; \n",
      "Нормальзованный массив arr:\n",
      " [[0.66666667 0.61111111 0.83333333 1.         0.94444444 0.55555556\n",
      "  0.05555556]\n",
      " [0.66666667 0.33333333 0.05555556 1.         0.77777778 0.83333333\n",
      "  0.5       ]\n",
      " [0.44444444 0.05555556 0.11111111 0.72222222 0.94444444 0.55555556\n",
      "  0.        ]\n",
      " [0.16666667 1.         0.83333333 0.77777778 1.         0.72222222\n",
      "  0.11111111]]\n"
     ]
    }
   ],
   "source": [
    "import numpy as np\n",
    "arr = np.random.randint(0,20, size = (4,7))\n",
    "normal_arr = (arr - np.min(arr)) / (np.max(arr) - np.min(arr)) \n",
    "print(f'Массив arr:\\n {arr}; \\nНормальзованный массив arr:\\n {normal_arr}')"
   ]
  },
  {
   "cell_type": "markdown",
   "metadata": {},
   "source": [
    "2. Создать матрицу 8 на 10 из случайных целых (используя модуль `numpy.random`) чисел из диапозона от 0 до 10 и найти в ней строку (ее индекс и вывести саму строку), в которой сумма значений минимальна."
   ]
  },
  {
   "cell_type": "code",
   "execution_count": 37,
   "metadata": {
    "scrolled": false
   },
   "outputs": [
    {
     "name": "stdout",
     "output_type": "stream",
     "text": [
      "Строка,в которой сумма значений минимальна: [array([1, 0, 0, 7, 0, 0, 8, 1, 0, 6])];\n",
      "Ее индекс: 5\n",
      "Матрица: \n",
      "[[7 7 5 0 6 9 0 0 8 0]\n",
      " [2 4 9 1 7 8 9 1 5 8]\n",
      " [0 3 1 4 6 7 9 8 6 2]\n",
      " [5 9 5 0 6 9 3 9 0 2]\n",
      " [5 7 6 5 7 7 1 6 2 4]\n",
      " [1 0 0 7 0 0 8 1 0 6]\n",
      " [4 4 4 4 4 7 6 7 3 7]\n",
      " [6 8 6 5 7 7 5 5 8 7]]\n"
     ]
    }
   ],
   "source": [
    "mat_1=np.random.randint(0, 10, size=(8,10))\n",
    "lst=[]\n",
    "for i in mat_1:\n",
    "    for j in range(0,mat_1.shape[0]):\n",
    "        if np.sum(i) - np.sum(mat_1[j]) <= 0 and np.sum(i) - np.sum(mat_1[j-1]) < 0 and np.sum(i) - np.sum(mat_1[j-2]) < 0 and np.sum(i) - np.sum(mat_1[j-3]) < 0 and np.sum(i) - np.sum(mat_1[j-4]) < 0 and np.sum(i) - np.sum(mat_1[j-5]) < 0 and np.sum(i) - np.sum(mat_1[j-6]) < 0and np.sum(i) - np.sum(mat_1[j-7]) < 0:\n",
    "            lst.append(i)\n",
    "            print(f'Строка,в которой сумма значений минимальна: {lst};\\nЕе индекс: {j}')     \n",
    "print(f'Матрица: \\n{mat_1}')"
   ]
  },
  {
   "cell_type": "markdown",
   "metadata": {},
   "source": [
    "3. Найти евклидово расстояние между двумя одномерными векторами одинаковой размерности."
   ]
  },
  {
   "cell_type": "code",
   "execution_count": 38,
   "metadata": {},
   "outputs": [
    {
     "name": "stdout",
     "output_type": "stream",
     "text": [
      "Первый ветктор:[3 4 2]\n",
      "Второй ветктор:[4 4 3]\n",
      "Евклидово расстояние:1.4142135623730951\n"
     ]
    }
   ],
   "source": [
    "v_1=np.random.randint(0, 5, size=(3))\n",
    "v_2=np.random.randint(0, 5, size=(3))\n",
    "res_1=np.sqrt(np.sum(np.square(v_1 - v_2)))\n",
    "print(f'Первый ветктор:{v_1}\\nВторой ветктор:{v_2}\\nЕвклидово расстояние:{res_1}')"
   ]
  },
  {
   "cell_type": "markdown",
   "metadata": {},
   "source": [
    "4. Решить матричное уравнение `A*X*B=-C` - найти матрицу `X`. Где `A = [[-1, 2, 4], [-3, 1, 2], [-3, 0, 1]]`, `B=[[3, -1], [2, 1]]`, `C=[[7, 21], [11, 8], [8, 4]]`."
   ]
  },
  {
   "cell_type": "code",
   "execution_count": 39,
   "metadata": {},
   "outputs": [
    {
     "data": {
      "text/plain": [
       "array([[ 1.00000000e+00,  1.02140518e-15],\n",
       "       [-2.00000000e+00,  1.00000000e+00],\n",
       "       [ 3.00000000e+00, -4.00000000e+00]])"
      ]
     },
     "execution_count": 39,
     "metadata": {},
     "output_type": "execute_result"
    }
   ],
   "source": [
    "A = np.array([[-1, 2, 4], [-3, 1, 2], [-3, 0, 1]]).reshape(3,3)\n",
    "B = np.array([[3, -1], [2, 1]]).reshape(2,2)\n",
    "C = np.array([[7, 21], [11, 8], [8, 4]]).reshape(3,2)\n",
    "A = np.linalg.inv(A) #обратная матрица A\n",
    "B = np.linalg.inv(B) #обратная матрица B\n",
    "C = -C \n",
    "X = np.dot(A, C)\n",
    "X = np.dot(X, B)\n",
    "X"
   ]
  },
  {
   "cell_type": "markdown",
   "metadata": {},
   "source": [
    "## Лабораторная работа №1"
   ]
  },
  {
   "cell_type": "markdown",
   "metadata": {},
   "source": [
    "Замечание: при решении данных задач не подразумевается использования циклов или генераторов Python, если в задании не сказано обратного. Решение должно опираться на использования функционала библиотеки `numpy`."
   ]
  },
  {
   "cell_type": "markdown",
   "metadata": {},
   "source": [
    "1. Файл `minutes_n_ingredients.csv` содержит информацию об идентификаторе рецепта, времени его выполнения в минутах и количестве необходимых ингредиентов. Считайте данные из этого файла в виде массива `numpy` типа `int32`, используя `np.loadtxt`. Выведите на экран первые 5 строк массива."
   ]
  },
  {
   "cell_type": "code",
   "execution_count": 2,
   "metadata": {},
   "outputs": [
    {
     "data": {
      "text/plain": [
       "array([[127244,     60,     16],\n",
       "       [ 23891,     25,      7],\n",
       "       [ 94746,     10,      6],\n",
       "       [ 67660,      5,      6],\n",
       "       [157911,     60,     14]])"
      ]
     },
     "execution_count": 2,
     "metadata": {},
     "output_type": "execute_result"
    }
   ],
   "source": [
    "import numpy as np\n",
    "ar_1 = np.loadtxt('minutes_n_ingredients.csv', delimiter=',', dtype=str)\n",
    "ar_2 = np.array((ar_1[1:]),dtype = np.int32)\n",
    "ar_t=ar_2.copy()\n",
    "ar_2[:5]"
   ]
  },
  {
   "cell_type": "markdown",
   "metadata": {},
   "source": [
    "2. Вычислите среднее значение, минимум, максимум и медиану по каждому из столбцов, кроме первого."
   ]
  },
  {
   "cell_type": "code",
   "execution_count": 5,
   "metadata": {},
   "outputs": [
    {
     "name": "stdout",
     "output_type": "stream",
     "text": [
      "Средние значения: (21601.00169, 9.05528), минимумы: (0, 1), максимумы: (2147483647, 39) и медианы: (40.0, 9.0)\n"
     ]
    }
   ],
   "source": [
    "avg_1=np.mean(ar_2[:, 1])\n",
    "avg_2=np.mean(ar_2[:, 2])\n",
    "min_1=np.min(ar_2[:, 1])\n",
    "min_2=np.min(ar_2[:, 2])\n",
    "max_1=np.max(ar_2[:, 1])\n",
    "max_2=np.max(ar_2[:, 2])\n",
    "med_1=np.median(ar_2[:, 1])\n",
    "med_2=np.median(ar_2[:, 2])\n",
    "print(f'Средние значения: {avg_1, avg_2}, минимумы: {min_1, min_2}, максимумы: {max_1, max_2} и медианы: {med_1, med_2}')"
   ]
  },
  {
   "cell_type": "markdown",
   "metadata": {},
   "source": [
    "3. Ограничьте сверху значения продолжительности выполнения рецепта значением квантиля $q_{0.75}$. "
   ]
  },
  {
   "cell_type": "code",
   "execution_count": 6,
   "metadata": {},
   "outputs": [
    {
     "data": {
      "text/plain": [
       "array([[127244,     60,     16],\n",
       "       [ 23891,     25,      7],\n",
       "       [ 94746,     10,      6],\n",
       "       ...,\n",
       "       [ 43407,     35,      7],\n",
       "       [498432,     65,     15],\n",
       "       [370915,      5,      4]])"
      ]
     },
     "execution_count": 6,
     "metadata": {},
     "output_type": "execute_result"
    }
   ],
   "source": [
    "q=0.75\n",
    "ar_lim=ar_t[ar_t[:,1]<=np.quantile(ar_2[:,1], q)]\n",
    "ar_lim"
   ]
  },
  {
   "cell_type": "markdown",
   "metadata": {},
   "source": [
    "4. Посчитайте, для скольких рецептов указана продолжительность, равная нулю. Замените для таких строк значение в данном столбце на 1."
   ]
  },
  {
   "cell_type": "code",
   "execution_count": 7,
   "metadata": {},
   "outputs": [
    {
     "name": "stdout",
     "output_type": "stream",
     "text": [
      "Минимальое продолжительность рецепта измененного массива: 1, Коливчество рецептов равных нулю: 479\n"
     ]
    }
   ],
   "source": [
    "num=(ar_2[:,1]==0).sum()\n",
    "ar_3=np.place(ar_t[:,1], ar_t[:,1] == 0, 1)\n",
    "print(f'Минимальое продолжительность рецепта измененного массива: {np.min(ar_t)}, Коливчество рецептов равных нулю: {num}')"
   ]
  },
  {
   "cell_type": "markdown",
   "metadata": {},
   "source": [
    "5. Посчитайте, сколько уникальных рецептов находится в датасете."
   ]
  },
  {
   "cell_type": "code",
   "execution_count": 8,
   "metadata": {},
   "outputs": [
    {
     "name": "stdout",
     "output_type": "stream",
     "text": [
      "100001\n"
     ]
    }
   ],
   "source": [
    "print(len(np.unique(ar_1[:,0])))"
   ]
  },
  {
   "cell_type": "markdown",
   "metadata": {},
   "source": [
    "6. Сколько и каких различных значений кол-ва ингредиентов присутвует в рецептах из датасета?"
   ]
  },
  {
   "cell_type": "code",
   "execution_count": 9,
   "metadata": {},
   "outputs": [
    {
     "name": "stdout",
     "output_type": "stream",
     "text": [
      "Количество различных значений ингредиентов: 37\n",
      "[ 1  2  3  4  5  6  7  8  9 10 11 12 13 14 15 16 17 18 19 20 21 22 23 24\n",
      " 25 26 27 28 29 30 31 32 33 34 35 37 39]\n"
     ]
    }
   ],
   "source": [
    "print(f'Количество различных значений ингредиентов: {len(np.unique(ar_t[:,2]))}')\n",
    "print(np.unique(ar_t[:,2]))"
   ]
  },
  {
   "cell_type": "markdown",
   "metadata": {},
   "source": [
    "7. Создайте версию массива, содержащую информацию только о рецептах, состоящих не более чем из 5 ингредиентов."
   ]
  },
  {
   "cell_type": "code",
   "execution_count": 10,
   "metadata": {},
   "outputs": [
    {
     "name": "stdout",
     "output_type": "stream",
     "text": [
      "[[446597     15      5]\n",
      " [204134      5      3]\n",
      " [ 25623      6      4]\n",
      " ...\n",
      " [ 52088     60      5]\n",
      " [128811     15      4]\n",
      " [370915      5      4]]\n"
     ]
    }
   ],
   "source": [
    "print(ar_t[ar_t[:,2] <= 5])"
   ]
  },
  {
   "cell_type": "markdown",
   "metadata": {},
   "source": [
    "8. Для каждого рецепта посчитайте, сколько в среднем ингредиентов приходится на одну минуту рецепта. Найдите максимальное значение этой величины для всего датасета"
   ]
  },
  {
   "cell_type": "code",
   "execution_count": 11,
   "metadata": {},
   "outputs": [
    {
     "name": "stdout",
     "output_type": "stream",
     "text": [
      "Максимальное значение: 24.0\n",
      "[0.26666667 0.28       0.6        ... 0.23076923 0.8        0.1       ]\n"
     ]
    }
   ],
   "source": [
    "ar_4 = ar_t[:, 2] / ar_t[:, 1]\n",
    "print(f'Максимальное значение: {np.max(ar_4)}\\n{ar_4}')"
   ]
  },
  {
   "cell_type": "markdown",
   "metadata": {},
   "source": [
    "9. Вычислите среднее количество ингредиентов для топ-100 рецептов с наибольшей продолжительностью"
   ]
  },
  {
   "cell_type": "code",
   "execution_count": 13,
   "metadata": {},
   "outputs": [
    {
     "name": "stdout",
     "output_type": "stream",
     "text": [
      "6.61\n"
     ]
    }
   ],
   "source": [
    "ar_9 = ar_t[np.argsort(ar_t[:, 1])][-100:, 2]\n",
    "print(np.average(ar_9))"
   ]
  },
  {
   "cell_type": "markdown",
   "metadata": {},
   "source": [
    "10. Выберите случайным образом и выведите информацию о 10 различных рецептах"
   ]
  },
  {
   "cell_type": "code",
   "execution_count": 14,
   "metadata": {},
   "outputs": [
    {
     "name": "stdout",
     "output_type": "stream",
     "text": [
      "[[119975    380      5]\n",
      " [343292      8      5]\n",
      " [362108    120     10]\n",
      " [416980    305     11]\n",
      " [152240     10      9]\n",
      " [295856     55     20]\n",
      " [273108     35     10]\n",
      " [286027     30      9]\n",
      " [162470     70     13]\n",
      " [136860     40     12]]\n"
     ]
    }
   ],
   "source": [
    "print(ar_t[np.random.randint(ar_t.shape[0], size = 10)])"
   ]
  },
  {
   "cell_type": "markdown",
   "metadata": {},
   "source": [
    "11. Выведите процент рецептов, кол-во ингредиентов в которых меньше среднего."
   ]
  },
  {
   "cell_type": "code",
   "execution_count": 15,
   "metadata": {},
   "outputs": [
    {
     "data": {
      "text/plain": [
       "58.802"
      ]
     },
     "execution_count": 15,
     "metadata": {},
     "output_type": "execute_result"
    }
   ],
   "source": [
    "p_1 = np.mean(ar_t[:,2])\n",
    "ar_10 = ar_t[ar_t[:,2]<p_1]\n",
    "res_1=len(ar_10[:,2])/len(ar_t[:,2])\n",
    "res_1*100"
   ]
  },
  {
   "cell_type": "markdown",
   "metadata": {},
   "source": [
    "12. Назовем \"простым\" такой рецепт, длительность выполнения которого не больше 20 минут и кол-во ингредиентов в котором не больше 5. Создайте версию датасета с дополнительным столбцом, значениями которого являются 1, если рецепт простой, и 0 в противном случае."
   ]
  },
  {
   "cell_type": "code",
   "execution_count": 16,
   "metadata": {},
   "outputs": [
    {
     "data": {
      "text/plain": [
       "array([[127244,     60,     16,      0],\n",
       "       [ 23891,     25,      7,      0],\n",
       "       [ 94746,     10,      6,      0],\n",
       "       ...,\n",
       "       [498432,     65,     15,      0],\n",
       "       [370915,      5,      4,      1],\n",
       "       [ 81993,    140,     14,      0]])"
      ]
     },
     "execution_count": 16,
     "metadata": {},
     "output_type": "execute_result"
    }
   ],
   "source": [
    "ar_cond=(ar_t[:,1] <= 20) & (ar_t[:,2] <= 5)\n",
    "ar_simp=ar_t[ar_t[:,1]<=20]\n",
    "ar_simp_1=ar_simp[ar_simp[:,2]<=5]\n",
    "ar_add=np.hstack((ar_t, ar_cond[:, np.newaxis]))\n",
    "ar_add"
   ]
  },
  {
   "cell_type": "markdown",
   "metadata": {},
   "source": [
    "13. Выведите процент \"простых\" рецептов в датасете"
   ]
  },
  {
   "cell_type": "code",
   "execution_count": 17,
   "metadata": {},
   "outputs": [
    {
     "name": "stdout",
     "output_type": "stream",
     "text": [
      "9.552\n"
     ]
    }
   ],
   "source": [
    "print(len(ar_simp_1)*100/len(ar_t))"
   ]
  },
  {
   "cell_type": "markdown",
   "metadata": {},
   "source": [
    "14. Разделим рецепты на группы по следующему правилу. Назовем рецепты короткими, если их продолжительность составляет менее 10 минут; стандартными, если их продолжительность составляет более 10, но менее 20 минут; и длинными, если их продолжительность составляет не менее 20 минут. Создайте трехмерный массив, где нулевая ось отвечает за номер группы (короткий, стандартный или длинный рецепт), первая ось - за сам рецепт и вторая ось - за характеристики рецепта. Выберите максимальное количество рецептов из каждой группы таким образом, чтобы было возможно сформировать трехмерный массив. Выведите форму полученного массива."
   ]
  },
  {
   "cell_type": "code",
   "execution_count": 7,
   "metadata": {},
   "outputs": [
    {
     "data": {
      "text/plain": [
       "array([[[     0,  94746,     10,      6],\n",
       "        [     0,  67660,      5,      6],\n",
       "        [     0, 366174,      7,      9],\n",
       "        ...,\n",
       "        [     0, 420725,      5,      3],\n",
       "        [     0,   4747,      0,      9],\n",
       "        [     0, 370915,      5,      4]],\n",
       "\n",
       "       [[     1,  33941,     18,      9],\n",
       "        [     1, 446597,     15,      5],\n",
       "        [     1,  74205,     20,      7],\n",
       "        ...,\n",
       "        [     1, 230115,     20,      7],\n",
       "        [     1, 496131,     20,      9],\n",
       "        [     1, 365818,     20,      6]],\n",
       "\n",
       "       [[     2, 127244,     60,     16],\n",
       "        [     2,  23891,     25,      7],\n",
       "        [     2, 157911,     60,     14],\n",
       "        ...,\n",
       "        [     2,  68428,     70,     10],\n",
       "        [     2, 312995,   1445,      7],\n",
       "        [     2,  93651,    240,     12]]])"
      ]
     },
     "execution_count": 7,
     "metadata": {},
     "output_type": "execute_result"
    }
   ],
   "source": [
    "ar_short=ar_t[ar_t[:,1]<=10]\n",
    "ar_norm_0=ar_t[ar_t[:,1]>10]\n",
    "ar_norm=ar_norm_0[ar_norm_0[:,1]<=20]\n",
    "ar_long=ar_t[ar_t[:,1]>20]\n",
    "#номера группы в трехмерном массиве ar_fin: ar_short - 0; ar_norm - 1; ar_long - 2.\n",
    "ar_fin=np.arange(149592).reshape(3,12466,4)\n",
    "ar_fin[0][:,1:]=ar_short[:12466,:]\n",
    "ar_fin[0][:,0]=0\n",
    "ar_fin[1][:,1:]=ar_norm[:12466,:]\n",
    "ar_fin[1][:,0]=1\n",
    "ar_fin[2][:,1:]=ar_long[:12466,:]\n",
    "ar_fin[2][:,0]=2\n",
    "#в трехмерном массивне  представлено по 12466 рецептов из каждой группы, из-за того, что массив numpy должен быть прямоугольным, а длина наименьшего массива ar_short составляет 12466.\n",
    "ar_fin"
   ]
  },
  {
   "cell_type": "code",
   "execution_count": 8,
   "metadata": {
    "scrolled": true
   },
   "outputs": [
    {
     "data": {
      "text/plain": [
       "(14184, 73350, 12466)"
      ]
     },
     "execution_count": 8,
     "metadata": {},
     "output_type": "execute_result"
    }
   ],
   "source": [
    "len(ar_norm),len(ar_long),len(ar_short)"
   ]
  },
  {
   "cell_type": "code",
   "execution_count": null,
   "metadata": {},
   "outputs": [],
   "source": []
  }
 ],
 "metadata": {
  "kernelspec": {
   "display_name": "Python 3 (ipykernel)",
   "language": "python",
   "name": "python3"
  },
  "language_info": {
   "codemirror_mode": {
    "name": "ipython",
    "version": 3
   },
   "file_extension": ".py",
   "mimetype": "text/x-python",
   "name": "python",
   "nbconvert_exporter": "python",
   "pygments_lexer": "ipython3",
   "version": "3.9.13"
  }
 },
 "nbformat": 4,
 "nbformat_minor": 4
}
